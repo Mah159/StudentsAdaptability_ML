{
 "cells": [
  {
   "cell_type": "markdown",
   "id": "369fa78f",
   "metadata": {},
   "source": [
    "# Breakout Room 3"
   ]
  },
  {
   "cell_type": "markdown",
   "id": "cbdfbf87",
   "metadata": {},
   "source": [
    "Participants:\n",
    "1. S M Ali Zaidi\n",
    "2. Awais Qamar\n",
    "3. Maheen Salman\n",
    "4. Javeria Saleem\n",
    "5. Zohaib Ahmed"
   ]
  },
  {
   "cell_type": "code",
   "execution_count": 63,
   "id": "6cc073e3",
   "metadata": {},
   "outputs": [],
   "source": [
    "import numpy as np\n",
    "import pandas as pd\n",
    "from sklearn.preprocessing import LabelEncoder\n",
    "import matplotlib.pyplot as plt\n",
    "import seaborn as sns\n",
    "from sklearn.model_selection import GridSearchCV\n",
    "from sklearn.ensemble import RandomForestClassifier\n",
    "from sklearn.model_selection import train_test_split\n",
    "from sklearn.metrics import accuracy_score, mean_squared_error\n",
    "from sklearn.linear_model import LogisticRegression\n",
    "from sklearn.tree import DecisionTreeClassifier\n",
    "from sklearn.ensemble import RandomForestClassifier, GradientBoostingClassifier\n",
    "from sklearn.svm import SVC\n",
    "from sklearn.neighbors import KNeighborsClassifier\n",
    "from xgboost import XGBClassifier\n",
    "\n"
   ]
  },
  {
   "cell_type": "code",
   "execution_count": 65,
   "id": "dc2f3ec3",
   "metadata": {},
   "outputs": [],
   "source": [
    "df =pd.read_csv('/Users/Sohaib/Documents/ATOM CAMP/Deep learning/In Class Activity Breakout Rooms/students_adaptability_level_online_education.csv')"
   ]
  },
  {
   "cell_type": "code",
   "execution_count": 66,
   "id": "ce6bb3e1",
   "metadata": {},
   "outputs": [
    {
     "data": {
      "text/html": [
       "<div>\n",
       "<style scoped>\n",
       "    .dataframe tbody tr th:only-of-type {\n",
       "        vertical-align: middle;\n",
       "    }\n",
       "\n",
       "    .dataframe tbody tr th {\n",
       "        vertical-align: top;\n",
       "    }\n",
       "\n",
       "    .dataframe thead th {\n",
       "        text-align: right;\n",
       "    }\n",
       "</style>\n",
       "<table border=\"1\" class=\"dataframe\">\n",
       "  <thead>\n",
       "    <tr style=\"text-align: right;\">\n",
       "      <th></th>\n",
       "      <th>Gender</th>\n",
       "      <th>Age</th>\n",
       "      <th>Education Level</th>\n",
       "      <th>Institution Type</th>\n",
       "      <th>IT Student</th>\n",
       "      <th>Location</th>\n",
       "      <th>Load-shedding</th>\n",
       "      <th>Financial Condition</th>\n",
       "      <th>Internet Type</th>\n",
       "      <th>Network Type</th>\n",
       "      <th>Class Duration</th>\n",
       "      <th>Self Lms</th>\n",
       "      <th>Device</th>\n",
       "      <th>Adaptivity Level</th>\n",
       "    </tr>\n",
       "  </thead>\n",
       "  <tbody>\n",
       "    <tr>\n",
       "      <th>0</th>\n",
       "      <td>Boy</td>\n",
       "      <td>21-25</td>\n",
       "      <td>University</td>\n",
       "      <td>Non Government</td>\n",
       "      <td>No</td>\n",
       "      <td>Yes</td>\n",
       "      <td>Low</td>\n",
       "      <td>Mid</td>\n",
       "      <td>Wifi</td>\n",
       "      <td>4G</td>\n",
       "      <td>3-6</td>\n",
       "      <td>No</td>\n",
       "      <td>Tab</td>\n",
       "      <td>Moderate</td>\n",
       "    </tr>\n",
       "    <tr>\n",
       "      <th>1</th>\n",
       "      <td>Girl</td>\n",
       "      <td>21-25</td>\n",
       "      <td>University</td>\n",
       "      <td>Non Government</td>\n",
       "      <td>No</td>\n",
       "      <td>Yes</td>\n",
       "      <td>High</td>\n",
       "      <td>Mid</td>\n",
       "      <td>Mobile Data</td>\n",
       "      <td>4G</td>\n",
       "      <td>1-3</td>\n",
       "      <td>Yes</td>\n",
       "      <td>Mobile</td>\n",
       "      <td>Moderate</td>\n",
       "    </tr>\n",
       "    <tr>\n",
       "      <th>2</th>\n",
       "      <td>Girl</td>\n",
       "      <td>16-20</td>\n",
       "      <td>College</td>\n",
       "      <td>Government</td>\n",
       "      <td>No</td>\n",
       "      <td>Yes</td>\n",
       "      <td>Low</td>\n",
       "      <td>Mid</td>\n",
       "      <td>Wifi</td>\n",
       "      <td>4G</td>\n",
       "      <td>1-3</td>\n",
       "      <td>No</td>\n",
       "      <td>Mobile</td>\n",
       "      <td>Moderate</td>\n",
       "    </tr>\n",
       "    <tr>\n",
       "      <th>3</th>\n",
       "      <td>Girl</td>\n",
       "      <td>11-15</td>\n",
       "      <td>School</td>\n",
       "      <td>Non Government</td>\n",
       "      <td>No</td>\n",
       "      <td>Yes</td>\n",
       "      <td>Low</td>\n",
       "      <td>Mid</td>\n",
       "      <td>Mobile Data</td>\n",
       "      <td>4G</td>\n",
       "      <td>1-3</td>\n",
       "      <td>No</td>\n",
       "      <td>Mobile</td>\n",
       "      <td>Moderate</td>\n",
       "    </tr>\n",
       "    <tr>\n",
       "      <th>4</th>\n",
       "      <td>Girl</td>\n",
       "      <td>16-20</td>\n",
       "      <td>School</td>\n",
       "      <td>Non Government</td>\n",
       "      <td>No</td>\n",
       "      <td>Yes</td>\n",
       "      <td>Low</td>\n",
       "      <td>Poor</td>\n",
       "      <td>Mobile Data</td>\n",
       "      <td>3G</td>\n",
       "      <td>0</td>\n",
       "      <td>No</td>\n",
       "      <td>Mobile</td>\n",
       "      <td>Low</td>\n",
       "    </tr>\n",
       "    <tr>\n",
       "      <th>...</th>\n",
       "      <td>...</td>\n",
       "      <td>...</td>\n",
       "      <td>...</td>\n",
       "      <td>...</td>\n",
       "      <td>...</td>\n",
       "      <td>...</td>\n",
       "      <td>...</td>\n",
       "      <td>...</td>\n",
       "      <td>...</td>\n",
       "      <td>...</td>\n",
       "      <td>...</td>\n",
       "      <td>...</td>\n",
       "      <td>...</td>\n",
       "      <td>...</td>\n",
       "    </tr>\n",
       "    <tr>\n",
       "      <th>1200</th>\n",
       "      <td>Girl</td>\n",
       "      <td>16-20</td>\n",
       "      <td>College</td>\n",
       "      <td>Non Government</td>\n",
       "      <td>No</td>\n",
       "      <td>Yes</td>\n",
       "      <td>Low</td>\n",
       "      <td>Mid</td>\n",
       "      <td>Wifi</td>\n",
       "      <td>4G</td>\n",
       "      <td>1-3</td>\n",
       "      <td>No</td>\n",
       "      <td>Mobile</td>\n",
       "      <td>Low</td>\n",
       "    </tr>\n",
       "    <tr>\n",
       "      <th>1201</th>\n",
       "      <td>Girl</td>\n",
       "      <td>16-20</td>\n",
       "      <td>College</td>\n",
       "      <td>Non Government</td>\n",
       "      <td>No</td>\n",
       "      <td>No</td>\n",
       "      <td>High</td>\n",
       "      <td>Mid</td>\n",
       "      <td>Wifi</td>\n",
       "      <td>4G</td>\n",
       "      <td>3-6</td>\n",
       "      <td>No</td>\n",
       "      <td>Mobile</td>\n",
       "      <td>Moderate</td>\n",
       "    </tr>\n",
       "    <tr>\n",
       "      <th>1202</th>\n",
       "      <td>Boy</td>\n",
       "      <td>11-15</td>\n",
       "      <td>School</td>\n",
       "      <td>Non Government</td>\n",
       "      <td>No</td>\n",
       "      <td>Yes</td>\n",
       "      <td>Low</td>\n",
       "      <td>Mid</td>\n",
       "      <td>Mobile Data</td>\n",
       "      <td>3G</td>\n",
       "      <td>1-3</td>\n",
       "      <td>No</td>\n",
       "      <td>Mobile</td>\n",
       "      <td>Moderate</td>\n",
       "    </tr>\n",
       "    <tr>\n",
       "      <th>1203</th>\n",
       "      <td>Girl</td>\n",
       "      <td>16-20</td>\n",
       "      <td>College</td>\n",
       "      <td>Non Government</td>\n",
       "      <td>No</td>\n",
       "      <td>No</td>\n",
       "      <td>Low</td>\n",
       "      <td>Mid</td>\n",
       "      <td>Wifi</td>\n",
       "      <td>4G</td>\n",
       "      <td>1-3</td>\n",
       "      <td>No</td>\n",
       "      <td>Mobile</td>\n",
       "      <td>Low</td>\n",
       "    </tr>\n",
       "    <tr>\n",
       "      <th>1204</th>\n",
       "      <td>Girl</td>\n",
       "      <td>11-15</td>\n",
       "      <td>School</td>\n",
       "      <td>Non Government</td>\n",
       "      <td>No</td>\n",
       "      <td>Yes</td>\n",
       "      <td>Low</td>\n",
       "      <td>Poor</td>\n",
       "      <td>Mobile Data</td>\n",
       "      <td>3G</td>\n",
       "      <td>1-3</td>\n",
       "      <td>No</td>\n",
       "      <td>Mobile</td>\n",
       "      <td>Moderate</td>\n",
       "    </tr>\n",
       "  </tbody>\n",
       "</table>\n",
       "<p>1205 rows × 14 columns</p>\n",
       "</div>"
      ],
      "text/plain": [
       "     Gender    Age Education Level Institution Type IT Student Location  \\\n",
       "0       Boy  21-25      University   Non Government         No      Yes   \n",
       "1      Girl  21-25      University   Non Government         No      Yes   \n",
       "2      Girl  16-20         College       Government         No      Yes   \n",
       "3      Girl  11-15          School   Non Government         No      Yes   \n",
       "4      Girl  16-20          School   Non Government         No      Yes   \n",
       "...     ...    ...             ...              ...        ...      ...   \n",
       "1200   Girl  16-20         College   Non Government         No      Yes   \n",
       "1201   Girl  16-20         College   Non Government         No       No   \n",
       "1202    Boy  11-15          School   Non Government         No      Yes   \n",
       "1203   Girl  16-20         College   Non Government         No       No   \n",
       "1204   Girl  11-15          School   Non Government         No      Yes   \n",
       "\n",
       "     Load-shedding Financial Condition Internet Type Network Type  \\\n",
       "0              Low                 Mid          Wifi           4G   \n",
       "1             High                 Mid   Mobile Data           4G   \n",
       "2              Low                 Mid          Wifi           4G   \n",
       "3              Low                 Mid   Mobile Data           4G   \n",
       "4              Low                Poor   Mobile Data           3G   \n",
       "...            ...                 ...           ...          ...   \n",
       "1200           Low                 Mid          Wifi           4G   \n",
       "1201          High                 Mid          Wifi           4G   \n",
       "1202           Low                 Mid   Mobile Data           3G   \n",
       "1203           Low                 Mid          Wifi           4G   \n",
       "1204           Low                Poor   Mobile Data           3G   \n",
       "\n",
       "     Class Duration Self Lms  Device Adaptivity Level  \n",
       "0               3-6       No     Tab         Moderate  \n",
       "1               1-3      Yes  Mobile         Moderate  \n",
       "2               1-3       No  Mobile         Moderate  \n",
       "3               1-3       No  Mobile         Moderate  \n",
       "4                 0       No  Mobile              Low  \n",
       "...             ...      ...     ...              ...  \n",
       "1200            1-3       No  Mobile              Low  \n",
       "1201            3-6       No  Mobile         Moderate  \n",
       "1202            1-3       No  Mobile         Moderate  \n",
       "1203            1-3       No  Mobile              Low  \n",
       "1204            1-3       No  Mobile         Moderate  \n",
       "\n",
       "[1205 rows x 14 columns]"
      ]
     },
     "execution_count": 66,
     "metadata": {},
     "output_type": "execute_result"
    }
   ],
   "source": [
    "df"
   ]
  },
  {
   "cell_type": "markdown",
   "id": "1cfa3e18",
   "metadata": {},
   "source": [
    "Content\n",
    "\n",
    "A. The target feature:\n",
    "Adaptivity level\n",
    "\n",
    "B. The feature sets are:\n",
    "1. Gender\n",
    "2. Age\n",
    "3. Education Level\n",
    "4. Institution Type\n",
    "5. IT Student\n",
    "6. Location in Town\n",
    "7. Load-shedding\n",
    "8. Financial Condition\n",
    "9. Internet Type\n",
    "10. Network Type\n",
    "11. Class Duration\n",
    "12. Self LMS\n",
    "13. Device\n",
    "\n",
    "Acknowledgements"
   ]
  },
  {
   "cell_type": "code",
   "execution_count": 4,
   "id": "d8aeb18e",
   "metadata": {},
   "outputs": [
    {
     "data": {
      "text/plain": [
       "Gender                 2\n",
       "Age                    6\n",
       "Education Level        3\n",
       "Institution Type       2\n",
       "IT Student             2\n",
       "Location               2\n",
       "Load-shedding          2\n",
       "Financial Condition    3\n",
       "Internet Type          2\n",
       "Network Type           3\n",
       "Class Duration         3\n",
       "Self Lms               2\n",
       "Device                 3\n",
       "Adaptivity Level       3\n",
       "dtype: int64"
      ]
     },
     "execution_count": 4,
     "metadata": {},
     "output_type": "execute_result"
    }
   ],
   "source": [
    "df.nunique()"
   ]
  },
  {
   "cell_type": "code",
   "execution_count": 5,
   "id": "8bc3ac6c",
   "metadata": {},
   "outputs": [
    {
     "data": {
      "text/plain": [
       "{'Gender': array(['Boy', 'Girl'], dtype=object),\n",
       " 'Age': array(['21-25', '16-20', '11-15', '26-30', '6-10', '1-5'], dtype=object),\n",
       " 'Education Level': array(['University', 'College', 'School'], dtype=object),\n",
       " 'Institution Type': array(['Non Government', 'Government'], dtype=object),\n",
       " 'IT Student': array(['No', 'Yes'], dtype=object),\n",
       " 'Location': array(['Yes', 'No'], dtype=object),\n",
       " 'Load-shedding': array(['Low', 'High'], dtype=object),\n",
       " 'Financial Condition': array(['Mid', 'Poor', 'Rich'], dtype=object),\n",
       " 'Internet Type': array(['Wifi', 'Mobile Data'], dtype=object),\n",
       " 'Network Type': array(['4G', '3G', '2G'], dtype=object),\n",
       " 'Class Duration': array(['3-6', '1-3', '0'], dtype=object),\n",
       " 'Self Lms': array(['No', 'Yes'], dtype=object),\n",
       " 'Device': array(['Tab', 'Mobile', 'Computer'], dtype=object),\n",
       " 'Adaptivity Level': array(['Moderate', 'Low', 'High'], dtype=object)}"
      ]
     },
     "execution_count": 5,
     "metadata": {},
     "output_type": "execute_result"
    }
   ],
   "source": [
    "unique_values = {column: df[column].unique() for column in df.columns}\n",
    "unique_values"
   ]
  },
  {
   "cell_type": "code",
   "execution_count": 6,
   "id": "34217bba",
   "metadata": {},
   "outputs": [
    {
     "data": {
      "text/html": [
       "<div>\n",
       "<style scoped>\n",
       "    .dataframe tbody tr th:only-of-type {\n",
       "        vertical-align: middle;\n",
       "    }\n",
       "\n",
       "    .dataframe tbody tr th {\n",
       "        vertical-align: top;\n",
       "    }\n",
       "\n",
       "    .dataframe thead th {\n",
       "        text-align: right;\n",
       "    }\n",
       "</style>\n",
       "<table border=\"1\" class=\"dataframe\">\n",
       "  <thead>\n",
       "    <tr style=\"text-align: right;\">\n",
       "      <th></th>\n",
       "      <th>Gender</th>\n",
       "      <th>Age</th>\n",
       "      <th>Education Level</th>\n",
       "      <th>Institution Type</th>\n",
       "      <th>IT Student</th>\n",
       "      <th>Location</th>\n",
       "      <th>Load-shedding</th>\n",
       "      <th>Financial Condition</th>\n",
       "      <th>Internet Type</th>\n",
       "      <th>Network Type</th>\n",
       "      <th>Class Duration</th>\n",
       "      <th>Self Lms</th>\n",
       "      <th>Device</th>\n",
       "      <th>Adaptivity Level</th>\n",
       "    </tr>\n",
       "  </thead>\n",
       "  <tbody>\n",
       "    <tr>\n",
       "      <th>count</th>\n",
       "      <td>1205</td>\n",
       "      <td>1205</td>\n",
       "      <td>1205</td>\n",
       "      <td>1205</td>\n",
       "      <td>1205</td>\n",
       "      <td>1205</td>\n",
       "      <td>1205</td>\n",
       "      <td>1205</td>\n",
       "      <td>1205</td>\n",
       "      <td>1205</td>\n",
       "      <td>1205</td>\n",
       "      <td>1205</td>\n",
       "      <td>1205</td>\n",
       "      <td>1205</td>\n",
       "    </tr>\n",
       "    <tr>\n",
       "      <th>unique</th>\n",
       "      <td>2</td>\n",
       "      <td>6</td>\n",
       "      <td>3</td>\n",
       "      <td>2</td>\n",
       "      <td>2</td>\n",
       "      <td>2</td>\n",
       "      <td>2</td>\n",
       "      <td>3</td>\n",
       "      <td>2</td>\n",
       "      <td>3</td>\n",
       "      <td>3</td>\n",
       "      <td>2</td>\n",
       "      <td>3</td>\n",
       "      <td>3</td>\n",
       "    </tr>\n",
       "    <tr>\n",
       "      <th>top</th>\n",
       "      <td>Boy</td>\n",
       "      <td>21-25</td>\n",
       "      <td>School</td>\n",
       "      <td>Non Government</td>\n",
       "      <td>No</td>\n",
       "      <td>Yes</td>\n",
       "      <td>Low</td>\n",
       "      <td>Mid</td>\n",
       "      <td>Mobile Data</td>\n",
       "      <td>4G</td>\n",
       "      <td>1-3</td>\n",
       "      <td>No</td>\n",
       "      <td>Mobile</td>\n",
       "      <td>Moderate</td>\n",
       "    </tr>\n",
       "    <tr>\n",
       "      <th>freq</th>\n",
       "      <td>663</td>\n",
       "      <td>374</td>\n",
       "      <td>530</td>\n",
       "      <td>823</td>\n",
       "      <td>901</td>\n",
       "      <td>935</td>\n",
       "      <td>1004</td>\n",
       "      <td>878</td>\n",
       "      <td>695</td>\n",
       "      <td>775</td>\n",
       "      <td>840</td>\n",
       "      <td>995</td>\n",
       "      <td>1013</td>\n",
       "      <td>625</td>\n",
       "    </tr>\n",
       "  </tbody>\n",
       "</table>\n",
       "</div>"
      ],
      "text/plain": [
       "       Gender    Age Education Level Institution Type IT Student Location  \\\n",
       "count    1205   1205            1205             1205       1205     1205   \n",
       "unique      2      6               3                2          2        2   \n",
       "top       Boy  21-25          School   Non Government         No      Yes   \n",
       "freq      663    374             530              823        901      935   \n",
       "\n",
       "       Load-shedding Financial Condition Internet Type Network Type  \\\n",
       "count           1205                1205          1205         1205   \n",
       "unique             2                   3             2            3   \n",
       "top              Low                 Mid   Mobile Data           4G   \n",
       "freq            1004                 878           695          775   \n",
       "\n",
       "       Class Duration Self Lms  Device Adaptivity Level  \n",
       "count            1205     1205    1205             1205  \n",
       "unique              3        2       3                3  \n",
       "top               1-3       No  Mobile         Moderate  \n",
       "freq              840      995    1013              625  "
      ]
     },
     "execution_count": 6,
     "metadata": {},
     "output_type": "execute_result"
    }
   ],
   "source": [
    "df.describe()"
   ]
  },
  {
   "cell_type": "code",
   "execution_count": 7,
   "id": "ae2b1af3",
   "metadata": {},
   "outputs": [
    {
     "name": "stdout",
     "output_type": "stream",
     "text": [
      "<class 'pandas.core.frame.DataFrame'>\n",
      "RangeIndex: 1205 entries, 0 to 1204\n",
      "Data columns (total 14 columns):\n",
      " #   Column               Non-Null Count  Dtype \n",
      "---  ------               --------------  ----- \n",
      " 0   Gender               1205 non-null   object\n",
      " 1   Age                  1205 non-null   object\n",
      " 2   Education Level      1205 non-null   object\n",
      " 3   Institution Type     1205 non-null   object\n",
      " 4   IT Student           1205 non-null   object\n",
      " 5   Location             1205 non-null   object\n",
      " 6   Load-shedding        1205 non-null   object\n",
      " 7   Financial Condition  1205 non-null   object\n",
      " 8   Internet Type        1205 non-null   object\n",
      " 9   Network Type         1205 non-null   object\n",
      " 10  Class Duration       1205 non-null   object\n",
      " 11  Self Lms             1205 non-null   object\n",
      " 12  Device               1205 non-null   object\n",
      " 13  Adaptivity Level     1205 non-null   object\n",
      "dtypes: object(14)\n",
      "memory usage: 131.9+ KB\n"
     ]
    }
   ],
   "source": [
    "df.info()"
   ]
  },
  {
   "cell_type": "code",
   "execution_count": 67,
   "id": "1a352264",
   "metadata": {},
   "outputs": [
    {
     "data": {
      "text/html": [
       "<div>\n",
       "<style scoped>\n",
       "    .dataframe tbody tr th:only-of-type {\n",
       "        vertical-align: middle;\n",
       "    }\n",
       "\n",
       "    .dataframe tbody tr th {\n",
       "        vertical-align: top;\n",
       "    }\n",
       "\n",
       "    .dataframe thead th {\n",
       "        text-align: right;\n",
       "    }\n",
       "</style>\n",
       "<table border=\"1\" class=\"dataframe\">\n",
       "  <thead>\n",
       "    <tr style=\"text-align: right;\">\n",
       "      <th></th>\n",
       "      <th>Gender</th>\n",
       "      <th>Age</th>\n",
       "      <th>Education Level</th>\n",
       "      <th>Institution Type</th>\n",
       "      <th>IT Student</th>\n",
       "      <th>Location</th>\n",
       "      <th>Load-shedding</th>\n",
       "      <th>Financial Condition</th>\n",
       "      <th>Internet Type</th>\n",
       "      <th>Network Type</th>\n",
       "      <th>Class Duration</th>\n",
       "      <th>Self Lms</th>\n",
       "      <th>Device</th>\n",
       "      <th>Adaptivity Level</th>\n",
       "    </tr>\n",
       "  </thead>\n",
       "  <tbody>\n",
       "    <tr>\n",
       "      <th>0</th>\n",
       "      <td>0</td>\n",
       "      <td>3</td>\n",
       "      <td>2</td>\n",
       "      <td>1</td>\n",
       "      <td>0</td>\n",
       "      <td>1</td>\n",
       "      <td>1</td>\n",
       "      <td>0</td>\n",
       "      <td>1</td>\n",
       "      <td>2</td>\n",
       "      <td>2</td>\n",
       "      <td>0</td>\n",
       "      <td>2</td>\n",
       "      <td>2</td>\n",
       "    </tr>\n",
       "    <tr>\n",
       "      <th>1</th>\n",
       "      <td>1</td>\n",
       "      <td>3</td>\n",
       "      <td>2</td>\n",
       "      <td>1</td>\n",
       "      <td>0</td>\n",
       "      <td>1</td>\n",
       "      <td>0</td>\n",
       "      <td>0</td>\n",
       "      <td>0</td>\n",
       "      <td>2</td>\n",
       "      <td>1</td>\n",
       "      <td>1</td>\n",
       "      <td>1</td>\n",
       "      <td>2</td>\n",
       "    </tr>\n",
       "    <tr>\n",
       "      <th>2</th>\n",
       "      <td>1</td>\n",
       "      <td>2</td>\n",
       "      <td>0</td>\n",
       "      <td>0</td>\n",
       "      <td>0</td>\n",
       "      <td>1</td>\n",
       "      <td>1</td>\n",
       "      <td>0</td>\n",
       "      <td>1</td>\n",
       "      <td>2</td>\n",
       "      <td>1</td>\n",
       "      <td>0</td>\n",
       "      <td>1</td>\n",
       "      <td>2</td>\n",
       "    </tr>\n",
       "    <tr>\n",
       "      <th>3</th>\n",
       "      <td>1</td>\n",
       "      <td>1</td>\n",
       "      <td>1</td>\n",
       "      <td>1</td>\n",
       "      <td>0</td>\n",
       "      <td>1</td>\n",
       "      <td>1</td>\n",
       "      <td>0</td>\n",
       "      <td>0</td>\n",
       "      <td>2</td>\n",
       "      <td>1</td>\n",
       "      <td>0</td>\n",
       "      <td>1</td>\n",
       "      <td>2</td>\n",
       "    </tr>\n",
       "    <tr>\n",
       "      <th>4</th>\n",
       "      <td>1</td>\n",
       "      <td>2</td>\n",
       "      <td>1</td>\n",
       "      <td>1</td>\n",
       "      <td>0</td>\n",
       "      <td>1</td>\n",
       "      <td>1</td>\n",
       "      <td>1</td>\n",
       "      <td>0</td>\n",
       "      <td>1</td>\n",
       "      <td>0</td>\n",
       "      <td>0</td>\n",
       "      <td>1</td>\n",
       "      <td>1</td>\n",
       "    </tr>\n",
       "  </tbody>\n",
       "</table>\n",
       "</div>"
      ],
      "text/plain": [
       "   Gender  Age  Education Level  Institution Type  IT Student  Location  \\\n",
       "0       0    3                2                 1           0         1   \n",
       "1       1    3                2                 1           0         1   \n",
       "2       1    2                0                 0           0         1   \n",
       "3       1    1                1                 1           0         1   \n",
       "4       1    2                1                 1           0         1   \n",
       "\n",
       "   Load-shedding  Financial Condition  Internet Type  Network Type  \\\n",
       "0              1                    0              1             2   \n",
       "1              0                    0              0             2   \n",
       "2              1                    0              1             2   \n",
       "3              1                    0              0             2   \n",
       "4              1                    1              0             1   \n",
       "\n",
       "   Class Duration  Self Lms  Device  Adaptivity Level  \n",
       "0               2         0       2                 2  \n",
       "1               1         1       1                 2  \n",
       "2               1         0       1                 2  \n",
       "3               1         0       1                 2  \n",
       "4               0         0       1                 1  "
      ]
     },
     "execution_count": 67,
     "metadata": {},
     "output_type": "execute_result"
    }
   ],
   "source": [
    "# Creating a copy of the dataframe for label encoding\n",
    "df_en = df.copy()\n",
    "\n",
    "# Initializing LabelEncoder\n",
    "label_encoder = LabelEncoder()\n",
    "\n",
    "# Applying label encoding to each column\n",
    "for column in df_en.columns:\n",
    "    df_en[column] = label_encoder.fit_transform(df_en[column])\n",
    "\n",
    "df_en.head()"
   ]
  },
  {
   "cell_type": "code",
   "execution_count": 68,
   "id": "66fab7fb",
   "metadata": {
    "scrolled": true
   },
   "outputs": [
    {
     "data": {
      "text/html": [
       "<div>\n",
       "<style scoped>\n",
       "    .dataframe tbody tr th:only-of-type {\n",
       "        vertical-align: middle;\n",
       "    }\n",
       "\n",
       "    .dataframe tbody tr th {\n",
       "        vertical-align: top;\n",
       "    }\n",
       "\n",
       "    .dataframe thead th {\n",
       "        text-align: right;\n",
       "    }\n",
       "</style>\n",
       "<table border=\"1\" class=\"dataframe\">\n",
       "  <thead>\n",
       "    <tr style=\"text-align: right;\">\n",
       "      <th></th>\n",
       "      <th>Gender</th>\n",
       "      <th>Age</th>\n",
       "      <th>Education Level</th>\n",
       "      <th>Institution Type</th>\n",
       "      <th>IT Student</th>\n",
       "      <th>Location</th>\n",
       "      <th>Load-shedding</th>\n",
       "      <th>Financial Condition</th>\n",
       "      <th>Internet Type</th>\n",
       "      <th>Network Type</th>\n",
       "      <th>Class Duration</th>\n",
       "      <th>Self Lms</th>\n",
       "      <th>Device</th>\n",
       "      <th>Adaptivity Level</th>\n",
       "    </tr>\n",
       "  </thead>\n",
       "  <tbody>\n",
       "    <tr>\n",
       "      <th>count</th>\n",
       "      <td>1205.000000</td>\n",
       "      <td>1205.000000</td>\n",
       "      <td>1205.000000</td>\n",
       "      <td>1205.000000</td>\n",
       "      <td>1205.000000</td>\n",
       "      <td>1205.000000</td>\n",
       "      <td>1205.000000</td>\n",
       "      <td>1205.000000</td>\n",
       "      <td>1205.000000</td>\n",
       "      <td>1205.000000</td>\n",
       "      <td>1205.000000</td>\n",
       "      <td>1205.000000</td>\n",
       "      <td>1205.000000</td>\n",
       "      <td>1205.000000</td>\n",
       "    </tr>\n",
       "    <tr>\n",
       "      <th>mean</th>\n",
       "      <td>0.449793</td>\n",
       "      <td>2.122822</td>\n",
       "      <td>1.196680</td>\n",
       "      <td>0.682988</td>\n",
       "      <td>0.252282</td>\n",
       "      <td>0.775934</td>\n",
       "      <td>0.833195</td>\n",
       "      <td>0.341909</td>\n",
       "      <td>0.423237</td>\n",
       "      <td>1.627386</td>\n",
       "      <td>1.047303</td>\n",
       "      <td>0.174274</td>\n",
       "      <td>0.890456</td>\n",
       "      <td>1.435685</td>\n",
       "    </tr>\n",
       "    <tr>\n",
       "      <th>std</th>\n",
       "      <td>0.497679</td>\n",
       "      <td>1.210359</td>\n",
       "      <td>0.722437</td>\n",
       "      <td>0.465506</td>\n",
       "      <td>0.434503</td>\n",
       "      <td>0.417139</td>\n",
       "      <td>0.372956</td>\n",
       "      <td>0.605302</td>\n",
       "      <td>0.494277</td>\n",
       "      <td>0.515295</td>\n",
       "      <td>0.548559</td>\n",
       "      <td>0.379502</td>\n",
       "      <td>0.384003</td>\n",
       "      <td>0.642013</td>\n",
       "    </tr>\n",
       "    <tr>\n",
       "      <th>min</th>\n",
       "      <td>0.000000</td>\n",
       "      <td>0.000000</td>\n",
       "      <td>0.000000</td>\n",
       "      <td>0.000000</td>\n",
       "      <td>0.000000</td>\n",
       "      <td>0.000000</td>\n",
       "      <td>0.000000</td>\n",
       "      <td>0.000000</td>\n",
       "      <td>0.000000</td>\n",
       "      <td>0.000000</td>\n",
       "      <td>0.000000</td>\n",
       "      <td>0.000000</td>\n",
       "      <td>0.000000</td>\n",
       "      <td>0.000000</td>\n",
       "    </tr>\n",
       "    <tr>\n",
       "      <th>25%</th>\n",
       "      <td>0.000000</td>\n",
       "      <td>1.000000</td>\n",
       "      <td>1.000000</td>\n",
       "      <td>0.000000</td>\n",
       "      <td>0.000000</td>\n",
       "      <td>1.000000</td>\n",
       "      <td>1.000000</td>\n",
       "      <td>0.000000</td>\n",
       "      <td>0.000000</td>\n",
       "      <td>1.000000</td>\n",
       "      <td>1.000000</td>\n",
       "      <td>0.000000</td>\n",
       "      <td>1.000000</td>\n",
       "      <td>1.000000</td>\n",
       "    </tr>\n",
       "    <tr>\n",
       "      <th>50%</th>\n",
       "      <td>0.000000</td>\n",
       "      <td>2.000000</td>\n",
       "      <td>1.000000</td>\n",
       "      <td>1.000000</td>\n",
       "      <td>0.000000</td>\n",
       "      <td>1.000000</td>\n",
       "      <td>1.000000</td>\n",
       "      <td>0.000000</td>\n",
       "      <td>0.000000</td>\n",
       "      <td>2.000000</td>\n",
       "      <td>1.000000</td>\n",
       "      <td>0.000000</td>\n",
       "      <td>1.000000</td>\n",
       "      <td>2.000000</td>\n",
       "    </tr>\n",
       "    <tr>\n",
       "      <th>75%</th>\n",
       "      <td>1.000000</td>\n",
       "      <td>3.000000</td>\n",
       "      <td>2.000000</td>\n",
       "      <td>1.000000</td>\n",
       "      <td>1.000000</td>\n",
       "      <td>1.000000</td>\n",
       "      <td>1.000000</td>\n",
       "      <td>1.000000</td>\n",
       "      <td>1.000000</td>\n",
       "      <td>2.000000</td>\n",
       "      <td>1.000000</td>\n",
       "      <td>0.000000</td>\n",
       "      <td>1.000000</td>\n",
       "      <td>2.000000</td>\n",
       "    </tr>\n",
       "    <tr>\n",
       "      <th>max</th>\n",
       "      <td>1.000000</td>\n",
       "      <td>5.000000</td>\n",
       "      <td>2.000000</td>\n",
       "      <td>1.000000</td>\n",
       "      <td>1.000000</td>\n",
       "      <td>1.000000</td>\n",
       "      <td>1.000000</td>\n",
       "      <td>2.000000</td>\n",
       "      <td>1.000000</td>\n",
       "      <td>2.000000</td>\n",
       "      <td>2.000000</td>\n",
       "      <td>1.000000</td>\n",
       "      <td>2.000000</td>\n",
       "      <td>2.000000</td>\n",
       "    </tr>\n",
       "  </tbody>\n",
       "</table>\n",
       "</div>"
      ],
      "text/plain": [
       "            Gender          Age  Education Level  Institution Type  \\\n",
       "count  1205.000000  1205.000000      1205.000000       1205.000000   \n",
       "mean      0.449793     2.122822         1.196680          0.682988   \n",
       "std       0.497679     1.210359         0.722437          0.465506   \n",
       "min       0.000000     0.000000         0.000000          0.000000   \n",
       "25%       0.000000     1.000000         1.000000          0.000000   \n",
       "50%       0.000000     2.000000         1.000000          1.000000   \n",
       "75%       1.000000     3.000000         2.000000          1.000000   \n",
       "max       1.000000     5.000000         2.000000          1.000000   \n",
       "\n",
       "        IT Student     Location  Load-shedding  Financial Condition  \\\n",
       "count  1205.000000  1205.000000    1205.000000          1205.000000   \n",
       "mean      0.252282     0.775934       0.833195             0.341909   \n",
       "std       0.434503     0.417139       0.372956             0.605302   \n",
       "min       0.000000     0.000000       0.000000             0.000000   \n",
       "25%       0.000000     1.000000       1.000000             0.000000   \n",
       "50%       0.000000     1.000000       1.000000             0.000000   \n",
       "75%       1.000000     1.000000       1.000000             1.000000   \n",
       "max       1.000000     1.000000       1.000000             2.000000   \n",
       "\n",
       "       Internet Type  Network Type  Class Duration     Self Lms       Device  \\\n",
       "count    1205.000000   1205.000000     1205.000000  1205.000000  1205.000000   \n",
       "mean        0.423237      1.627386        1.047303     0.174274     0.890456   \n",
       "std         0.494277      0.515295        0.548559     0.379502     0.384003   \n",
       "min         0.000000      0.000000        0.000000     0.000000     0.000000   \n",
       "25%         0.000000      1.000000        1.000000     0.000000     1.000000   \n",
       "50%         0.000000      2.000000        1.000000     0.000000     1.000000   \n",
       "75%         1.000000      2.000000        1.000000     0.000000     1.000000   \n",
       "max         1.000000      2.000000        2.000000     1.000000     2.000000   \n",
       "\n",
       "       Adaptivity Level  \n",
       "count       1205.000000  \n",
       "mean           1.435685  \n",
       "std            0.642013  \n",
       "min            0.000000  \n",
       "25%            1.000000  \n",
       "50%            2.000000  \n",
       "75%            2.000000  \n",
       "max            2.000000  "
      ]
     },
     "execution_count": 68,
     "metadata": {},
     "output_type": "execute_result"
    }
   ],
   "source": [
    "df_en.describe()"
   ]
  },
  {
   "cell_type": "markdown",
   "id": "8e9a1063",
   "metadata": {},
   "source": [
    "# Initializing Machine Learning Models "
   ]
  },
  {
   "cell_type": "code",
   "execution_count": 59,
   "id": "d0b7c2c7",
   "metadata": {},
   "outputs": [],
   "source": [
    "# Preparing the data\n",
    "X = df_en.drop('Adaptivity Level', axis=1)\n",
    "y = df_en['Adaptivity Level']\n",
    "\n",
    "# Splitting the data into training and testing sets\n",
    "X_train, X_test, y_train, y_test = train_test_split(X, y, test_size=0.3, random_state=42)\n",
    "\n",
    "# Initializing models\n",
    "models = {\n",
    "    \"Logistic Regression\": LogisticRegression(max_iter=1000),\n",
    "    \"Decision Tree\": DecisionTreeClassifier(),\n",
    "    \"Random Forest\": RandomForestClassifier(),\n",
    "    \"Gradient Boosting\": GradientBoostingClassifier(),\n",
    "    \"Support Vector Machine\": SVC(),\n",
    "    \"K-Nearest Neighbors\": KNeighborsClassifier(),\n",
    "    \"XG Booster Classifier\": XGBClassifier()\n",
    "}\n",
    "\n",
    "# Training and evaluating models\n",
    "results = {}\n",
    "for name, model in models.items():\n",
    "    model.fit(X_train, y_train)\n",
    "    y_pred = model.predict(X_test)\n",
    "    accuracy = accuracy_score(y_test, y_pred)\n",
    "    mse = mean_squared_error(y_test, y_pred)\n",
    "    results[name] = {\"Accuracy\": accuracy, \"Mean Squared Error\": mse}"
   ]
  },
  {
   "cell_type": "code",
   "execution_count": 60,
   "id": "36a24e41",
   "metadata": {},
   "outputs": [
    {
     "data": {
      "text/plain": [
       "{'Logistic Regression': {'Accuracy': 0.6740331491712708,\n",
       "  'Mean Squared Error': 0.5165745856353591},\n",
       " 'Decision Tree': {'Accuracy': 0.8812154696132597,\n",
       "  'Mean Squared Error': 0.21823204419889503},\n",
       " 'Random Forest': {'Accuracy': 0.8950276243093923,\n",
       "  'Mean Squared Error': 0.20441988950276244},\n",
       " 'Gradient Boosting': {'Accuracy': 0.8038674033149171,\n",
       "  'Mean Squared Error': 0.32044198895027626},\n",
       " 'Support Vector Machine': {'Accuracy': 0.7624309392265194,\n",
       "  'Mean Squared Error': 0.3867403314917127},\n",
       " 'K-Nearest Neighbors': {'Accuracy': 0.7154696132596685,\n",
       "  'Mean Squared Error': 0.47513812154696133},\n",
       " 'XG Booster Classifier': {'Accuracy': 0.8922651933701657,\n",
       "  'Mean Squared Error': 0.20718232044198895}}"
      ]
     },
     "execution_count": 60,
     "metadata": {},
     "output_type": "execute_result"
    }
   ],
   "source": [
    "results"
   ]
  },
  {
   "cell_type": "code",
   "execution_count": 62,
   "id": "0b829a52",
   "metadata": {
    "scrolled": false
   },
   "outputs": [
    {
     "data": {
      "image/png": "[encoded data removed]",
      "text/plain": [
       "<Figure size 1200x600 with 1 Axes>"
      ]
     },
     "metadata": {},
     "output_type": "display_data"
    }
   ],
   "source": [
    "#'results' is our dictionary containing the model results\n",
    "results_df = pd.DataFrame(results).transpose()\n",
    "\n",
    "fig, ax = plt.subplots(figsize=(12, 6))  \n",
    "# Setting the positions for the bars\n",
    "ind = range(len(results_df))\n",
    "width = 0.35\n",
    "\n",
    "# Plotting Accuracy and Mean Squared Error side by side for each model\n",
    "accuracy_bars = ax.bar(ind, results_df['Accuracy'], width, label='Accuracy', color='skyblue')\n",
    "error_bars = ax.bar([i + width for i in ind], results_df['Mean Squared Error'], width, label='Mean Squared Error', color='salmon')\n",
    "\n",
    "# Adding labels and titles\n",
    "ax.set_xlabel('Models')\n",
    "ax.set_ylabel('Scores')\n",
    "ax.set_title('Comparison of Accuracy and Mean Squared Error Across Models')\n",
    "\n",
    "# Set the x-ticks and rotate them for better visibility\n",
    "ax.set_xticks([i + width / 2 for i in ind])\n",
    "ax.set_xticklabels(results_df.index, rotation=90)  # Rotate the labels vertically\n",
    "\n",
    "ax.legend()\n",
    "\n",
    "plt.show()\n"
   ]
  },
  {
   "cell_type": "markdown",
   "id": "e52a94cf",
   "metadata": {},
   "source": [
    "# Hyperparameter Tuning"
   ]
  },
  {
   "cell_type": "markdown",
   "id": "a7a3d158",
   "metadata": {},
   "source": [
    "# Grid Search"
   ]
  },
  {
   "cell_type": "code",
   "execution_count": 26,
   "id": "83d2e00c",
   "metadata": {},
   "outputs": [
    {
     "name": "stdout",
     "output_type": "stream",
     "text": [
      "Fitting 3 folds for each of 216 candidates, totalling 648 fits\n",
      "Best Parameters: {'max_depth': 20, 'max_features': 'sqrt', 'min_samples_leaf': 1, 'min_samples_split': 2, 'n_estimators': 100}\n"
     ]
    }
   ],
   "source": [
    "# Define the parameter grid\n",
    "param_grid = {\n",
    "    'n_estimators': [100, 200, 300],\n",
    "    'max_depth': [10, 20, 30, 40],\n",
    "    'min_samples_split': [2, 5, 10],\n",
    "    'min_samples_leaf': [1, 2, 4],\n",
    "    'max_features': ['auto', 'sqrt']\n",
    "}\n",
    "\n",
    "# Initialize the Random Forest Classifier\n",
    "rf = RandomForestClassifier()\n",
    "\n",
    "# Initialize the Grid Search model\n",
    "grid_search = GridSearchCV(estimator = rf, param_grid = param_grid, \n",
    "                          cv = 3, n_jobs = -1, verbose = 2)\n",
    "\n",
    "# Fit the grid search to the data\n",
    "grid_search.fit(X_train, y_train)\n",
    "\n",
    "# Get the best parameters\n",
    "best_params = grid_search.best_params_\n",
    "print(\"Best Parameters:\", best_params)"
   ]
  },
  {
   "cell_type": "code",
   "execution_count": 27,
   "id": "976b2d06",
   "metadata": {},
   "outputs": [
    {
     "data": {
      "text/plain": [
       "(0.8867403314917127, 0.212707182320442)"
      ]
     },
     "execution_count": 27,
     "metadata": {},
     "output_type": "execute_result"
    }
   ],
   "source": [
    "# Implementing the Random Forest model with the best parameters obtained from Grid Search\n",
    "rf_optimized = RandomForestClassifier(\n",
    "    n_estimators=100,\n",
    "    max_depth=20,\n",
    "    min_samples_split=2,\n",
    "    min_samples_leaf=1,\n",
    "    max_features='sqrt'\n",
    ")\n",
    "\n",
    "# Training the optimized model\n",
    "rf_optimized.fit(X_train, y_train)\n",
    "\n",
    "# Evaluating the optimized model on the test set\n",
    "optimized_pred = rf_optimized.predict(X_test)\n",
    "optimized_accuracy = accuracy_score(y_test, optimized_pred)\n",
    "optimized_mse = mean_squared_error(y_test, optimized_pred)\n",
    "\n",
    "optimized_accuracy, optimized_mse\n"
   ]
  },
  {
   "cell_type": "code",
   "execution_count": 78,
   "id": "8b47c97a",
   "metadata": {},
   "outputs": [
    {
     "data": {
      "text/plain": [
       "(0.8977900552486188, 0.20165745856353592)"
      ]
     },
     "execution_count": 78,
     "metadata": {},
     "output_type": "execute_result"
    }
   ],
   "source": [
    "# checking if with a somechanges in the grid whether the results get better or not\n",
    "rf_optimized2 = RandomForestClassifier(\n",
    "    n_estimators=200,\n",
    "    max_depth=30,\n",
    "    min_samples_split=2,\n",
    "    min_samples_leaf=1,\n",
    "    max_features='sqrt'\n",
    ")\n",
    "\n",
    "# Training the optimized model\n",
    "rf_optimized2.fit(X_train, y_train)\n",
    "\n",
    "# Evaluating the optimized model on the test set\n",
    "optimized_pred = rf_optimized2.predict(X_test)\n",
    "optimized_accuracy = accuracy_score(y_test, optimized_pred)\n",
    "optimized_mse = mean_squared_error(y_test, optimized_pred)\n",
    "\n",
    "optimized_accuracy, optimized_mse\n"
   ]
  },
  {
   "cell_type": "code",
   "execution_count": 79,
   "id": "52b623c4",
   "metadata": {},
   "outputs": [
    {
     "data": {
      "text/plain": [
       "(0.8895027624309392, 0.20994475138121546)"
      ]
     },
     "execution_count": 79,
     "metadata": {},
     "output_type": "execute_result"
    }
   ],
   "source": [
    "rf_optimized3 = RandomForestClassifier(\n",
    "    n_estimators=300,\n",
    "    max_depth=40,\n",
    "    min_samples_split=2,\n",
    "    min_samples_leaf=1,\n",
    "    max_features='sqrt'\n",
    ")\n",
    "\n",
    "# Training the optimized model\n",
    "rf_optimized3.fit(X_train, y_train)\n",
    "\n",
    "# Evaluating the optimized model on the test set\n",
    "optimized_pred = rf_optimized3.predict(X_test)\n",
    "optimized_accuracy = accuracy_score(y_test, optimized_pred)\n",
    "optimized_mse = mean_squared_error(y_test, optimized_pred)\n",
    "\n",
    "optimized_accuracy, optimized_mse"
   ]
  },
  {
   "cell_type": "markdown",
   "id": "52745957",
   "metadata": {},
   "source": [
    "Now trying other method because the accuracies and errors are achieving the similar points as achieved in the \n",
    "Random Forest results"
   ]
  },
  {
   "cell_type": "markdown",
   "id": "030ceab7",
   "metadata": {},
   "source": [
    "# Random Search Setup"
   ]
  },
  {
   "cell_type": "code",
   "execution_count": 81,
   "id": "95fa2824",
   "metadata": {},
   "outputs": [
    {
     "name": "stdout",
     "output_type": "stream",
     "text": [
      "Fitting 3 folds for each of 100 candidates, totalling 300 fits\n",
      "Best Parameters: {'n_estimators': 243, 'min_samples_split': 2, 'min_samples_leaf': 1, 'max_features': 'sqrt', 'max_depth': 40}\n"
     ]
    }
   ],
   "source": [
    "from sklearn.model_selection import RandomizedSearchCV\n",
    "\n",
    "param_distributions = {\n",
    "    'n_estimators': range(100, 500),\n",
    "    'max_depth': [10, 20, 30, 40, None],\n",
    "    'min_samples_split': range(2, 20),\n",
    "    'min_samples_leaf': range(1, 10),\n",
    "    'max_features': ['auto', 'sqrt', 'log2']\n",
    "}\n",
    "\n",
    "# Initialize the Random Forest Classifier\n",
    "rf_rs = RandomForestClassifier()\n",
    "\n",
    "# Initialize the Random Search model\n",
    "random_search = RandomizedSearchCV(estimator=rf_rs, param_distributions=param_distributions, \n",
    "                                   n_iter=100, cv=3, verbose=2, random_state=42, n_jobs=-1)\n",
    "\n",
    "# Fit the random search model\n",
    "random_search.fit(X_train, y_train)\n",
    "\n",
    "# Print the best parameters\n",
    "print(\"Best Parameters:\", random_search.best_params_)"
   ]
  },
  {
   "cell_type": "code",
   "execution_count": 77,
   "id": "888f7731",
   "metadata": {},
   "outputs": [
    {
     "data": {
      "text/plain": [
       "(0.8950276243093923, 0.20441988950276244)"
      ]
     },
     "execution_count": 77,
     "metadata": {},
     "output_type": "execute_result"
    }
   ],
   "source": [
    "# testing the best parameter found in the Random Search \n",
    "rf_rs_optimized = RandomForestClassifier(\n",
    "    n_estimators=243,\n",
    "    max_depth=40,\n",
    "    min_samples_split=2,\n",
    "    min_samples_leaf=1,\n",
    "    max_features='sqrt'\n",
    ")\n",
    "\n",
    "# Training the optimized model\n",
    "rf_rs_optimized.fit(X_train, y_train)\n",
    "\n",
    "# Evaluating the optimized model on the test set\n",
    "optimized_pred = rf_rs_optimized.predict(X_test)\n",
    "optimized_accuracy = accuracy_score(y_test, optimized_pred)\n",
    "optimized_mse = mean_squared_error(y_test, optimized_pred)\n",
    "\n",
    "optimized_accuracy, optimized_mse\n"
   ]
  },
  {
   "cell_type": "markdown",
   "id": "2f5ca9e1",
   "metadata": {},
   "source": [
    "The hyper parameter tuning showed the results with parameters of Random Search Results."
   ]
  },
  {
   "cell_type": "markdown",
   "id": "a1299552",
   "metadata": {},
   "source": [
    "Applying cross validation to check the performance of the model with the parameters found by applying Random Search"
   ]
  },
  {
   "cell_type": "markdown",
   "id": "659f96ab",
   "metadata": {},
   "source": [
    "# Cross Validation"
   ]
  },
  {
   "cell_type": "markdown",
   "id": "0d93a693",
   "metadata": {},
   "source": [
    "Cross-validation is a statistical method used to estimate the skill of machine learning models by dividing data into subsets, training the model on some subsets and validating it on the remaining subsets."
   ]
  },
  {
   "cell_type": "code",
   "execution_count": 83,
   "id": "38f99bf9",
   "metadata": {},
   "outputs": [
    {
     "name": "stdout",
     "output_type": "stream",
     "text": [
      "Cross-Validation Scores: [0.94605809 0.90871369 0.89211618 0.90041494 0.87966805]\n",
      "Mean Cross-Validation Score: 0.9053941908713693\n",
      "Standard Deviation of Cross-Validation Scores: 0.022483348023475614\n"
     ]
    }
   ],
   "source": [
    "from sklearn.model_selection import cross_val_score\n",
    "\n",
    "# Initialize the optimized Random Forest model with the best parameters\n",
    "rf_rs_cv = RandomForestClassifier(\n",
    "    n_estimators=243,\n",
    "    max_depth=40,\n",
    "    min_samples_split=2,\n",
    "    min_samples_leaf=1,\n",
    "    max_features='sqrt'\n",
    ")\n",
    "\n",
    "# Perform cross-validation\n",
    "cv_scores = cross_val_score(rf_rs_cv, X, y, cv=5)  # We can specify the number of folds (e.g., cv=5)\n",
    "\n",
    "# Calculate mean and standard deviation of the cross-validation scores\n",
    "mean_cv_score = cv_scores.mean()\n",
    "std_cv_score = cv_scores.std()\n",
    "\n",
    "# Print the cross-validation results\n",
    "print(\"Cross-Validation Scores:\", cv_scores)\n",
    "print(\"Mean Cross-Validation Score:\", mean_cv_score)\n",
    "print(\"Standard Deviation of Cross-Validation Scores:\", std_cv_score)"
   ]
  },
  {
   "cell_type": "markdown",
   "id": "b4fcb67a",
   "metadata": {},
   "source": [
    "The cross-validation scores vary from 0.88 to 0.95, indicating some fluctuation in the model's performance across different data subsets. The average score of approximately 0.905 suggests a generally strong performance of the model. The standard deviation of about 0.02 points to a small variability in performance. Overall, these results imply that the model is reliable and consistent, but with some variation in its effectiveness across different subsets of the data."
   ]
  },
  {
   "cell_type": "markdown",
   "id": "57428da2",
   "metadata": {},
   "source": [
    "Now applying the cross validation on the Random Forest with out the grid of specific parameters "
   ]
  },
  {
   "cell_type": "code",
   "execution_count": 69,
   "id": "28885b10",
   "metadata": {},
   "outputs": [
    {
     "name": "stdout",
     "output_type": "stream",
     "text": [
      "The results of cross-validation for the optimized Random Forest model are as follows:\n",
      "\n",
      "Cross-Validation Scores: [0.94605809 0.90041494 0.90041494 0.90041494 0.87966805]\n",
      "Mean Cross-Validation Score: 0.9053941908713693\n",
      "Standard Deviation of Cross-Validation Scores: 0.02186214086692031\n"
     ]
    }
   ],
   "source": [
    "# X and y are our features and target variable\n",
    "rf_optimized = RandomForestClassifier()  # We can replace this with our optimized model\n",
    "\n",
    "# Performing 5-fold cross-validation\n",
    "cv_scores = cross_val_score(rf_optimized, X, y, cv=5)\n",
    "\n",
    "# Displaying the results in the specified format\n",
    "print(\"The results of cross-validation for the optimized Random Forest model are as follows:\\n\")\n",
    "print(\"Cross-Validation Scores:\", cv_scores)\n",
    "print(\"Mean Cross-Validation Score:\", cv_scores.mean())\n",
    "print(\"Standard Deviation of Cross-Validation Scores:\", cv_scores.std())\n"
   ]
  },
  {
   "cell_type": "markdown",
   "id": "4d359429",
   "metadata": {},
   "source": [
    "The above results also shows the same accuracy as achieved with specific parameters applying cross validation. Therefore it seems the model will predict the desired results but with a variation of approx 2%.  "
   ]
  },
  {
   "cell_type": "markdown",
   "id": "8e08ba65",
   "metadata": {},
   "source": [
    "# Feature importance Plots"
   ]
  },
  {
   "cell_type": "markdown",
   "id": "3fb891af",
   "metadata": {},
   "source": [
    "Now checking which features performed well in predicting the adaptivity level. It is based on the random forest model applied on the optimized model without specific parameter.  "
   ]
  },
  {
   "cell_type": "code",
   "execution_count": 71,
   "id": "3879c34c",
   "metadata": {
    "scrolled": false
   },
   "outputs": [
    {
     "data": {
      "image/png": "[encoded data removed]",
      "text/plain": [
       "<Figure size 1000x600 with 1 Axes>"
      ]
     },
     "metadata": {},
     "output_type": "display_data"
    }
   ],
   "source": [
    "# X and y are our features and target variable\n",
    "rf_optimized = RandomForestClassifier()  \n",
    "\n",
    "# Fit the model to our data\n",
    "rf_optimized.fit(X, y)\n",
    "\n",
    "# Get feature importances\n",
    "feature_importances = rf_optimized.feature_importances_\n",
    "\n",
    "# Create a pandas series with feature importances and sort them\n",
    "importances = pd.Series(feature_importances, index=X.columns).sort_values(ascending=False)\n",
    "\n",
    "# Plotting\n",
    "plt.figure(figsize=(10, 6))\n",
    "importances.plot(kind='bar')\n",
    "plt.title('Feature Importances in Random Forest Model')\n",
    "plt.ylabel('Importance')\n",
    "plt.xlabel('Features')\n",
    "\n",
    "plt.show()"
   ]
  },
  {
   "cell_type": "markdown",
   "id": "a19b363b",
   "metadata": {},
   "source": [
    "Applied on the cross validated model with optimized features"
   ]
  },
  {
   "cell_type": "code",
   "execution_count": 84,
   "id": "df6ee685",
   "metadata": {},
   "outputs": [
    {
     "data": {
      "image/png": "[encoded data removed]",
      "text/plain": [
       "<Figure size 1000x600 with 1 Axes>"
      ]
     },
     "metadata": {},
     "output_type": "display_data"
    }
   ],
   "source": [
    "# X and y are our features and target variable\n",
    "rf_rs_cv = RandomForestClassifier()  # Replace with our optimized model\n",
    "\n",
    "# Fit the model to our data\n",
    "rf_rs_cv.fit(X, y)\n",
    "\n",
    "# Get feature importances\n",
    "feature_importances = rf_rs_cv.feature_importances_\n",
    "\n",
    "# Create a pandas series with feature importances and sort them\n",
    "importances = pd.Series(feature_importances, index=X.columns).sort_values(ascending=False)\n",
    "\n",
    "# Plotting\n",
    "plt.figure(figsize=(10, 6))\n",
    "importances.plot(kind='bar')\n",
    "plt.title('Feature Importances in Random Forest Model')\n",
    "plt.ylabel('Importance')\n",
    "plt.xlabel('Features')\n",
    "\n",
    "plt.show()"
   ]
  },
  {
   "cell_type": "code",
   "execution_count": 89,
   "id": "41f1d221",
   "metadata": {
    "scrolled": false
   },
   "outputs": [
    {
     "name": "stdout",
     "output_type": "stream",
     "text": [
      "Confusion Matrix:\n",
      "[[ 76   5  19]\n",
      " [  4 439  37]\n",
      " [  6  42 577]]\n"
     ]
    },
    {
     "data": {
      "image/png": "[encoded data removed]",
      "text/plain": [
       "<Figure size 800x600 with 2 Axes>"
      ]
     },
     "metadata": {},
     "output_type": "display_data"
    }
   ],
   "source": [
    "from sklearn.model_selection import cross_val_score, cross_val_predict\n",
    "from sklearn.metrics import confusion_matrix\n",
    "\n",
    "# X and y are our features and target variable\n",
    "rf_optimized = RandomForestClassifier()  # Replace with our optimized model\n",
    "\n",
    "# Get cross-validated predictions\n",
    "predictions = cross_val_predict(rf_optimized, X, y, cv=5)\n",
    "\n",
    "# Compute confusion matrix\n",
    "cm = confusion_matrix(y, predictions)\n",
    "\n",
    "# Print the confusion matrix\n",
    "print(\"Confusion Matrix:\")\n",
    "print(cm)\n",
    "\n",
    "# Optionally, plot the confusion matrix\n",
    "plt.figure(figsize=(8, 6))\n",
    "sns.heatmap(cm, annot=True, fmt=\"d\", cmap='Blues')\n",
    "plt.title('Confusion Matrix')\n",
    "plt.ylabel('Actual')\n",
    "plt.xlabel('Predicted')\n",
    "plt.show()"
   ]
  },
  {
   "cell_type": "markdown",
   "id": "2fe6399c",
   "metadata": {},
   "source": [
    "The confusion matrix represents the performance of the model in a multi-class classification problem. Matrix Structure: The confusion matrix is a square matrix with dimensions equal to the number of classes. In our case, there are three classes, forming a 3x3 matrix. Each row of the matrix represents the instances of an actual class, and each column represents the instances of a predicted class.\n",
    "\n",
    "Diagonal Values (True Positives): The diagonal values represent the number of points for which the predicted label is equal to the true label. While we are predicting the Adaptivity Level. The encoding was done in the following manners; 3rd Moderate Adaptivity Level = 2 2nd Low Adaptivity Level = 1 1st High Adaptivity Level = 0\n",
    "\n",
    "1. 76 instances of the High Adaptivity Level were correctly predicted as High Adaptivity Level.\n",
    "2. 439 instances of the Low Adaptivity Level were correctly predicted as Low Adaptivity Level.\n",
    "3. 577 instances of the Moderate Adaptivity Level were correctly predicted as Moderate Adaptivity Level.\n",
    "\n",
    "Off-Diagonal Values (False Positives and False Negatives):\n",
    "\n",
    "1. For the High Adaptivity Level, 5 instances were wrongly predicted as Low Adaptivity Level and 19 as the Moderate Adaptivity Level.\n",
    "2. For the Low Adaptivity Level, 4 instances were wrongly predicted as the High Adaptivity Level and 37 as the Moderate Adaptivity Level.\n",
    "3. For the Moderate Adaptivity Level, 6 instances were wrongly predicted as the High Adaptivity Level and 42 as the Low Adaptivity Level. Analysis:\n",
    "\n",
    "The model is most accurate in predicting the Moderate Adaptivity Level, with 577 true positives and relatively fewer false positives and false negatives. The model performs well in predicting the Low Adaptivity Level too, with 439 true positives. However, it has a higher number of false negatives (37) compared to the High Adaptivity Level. The High Adaptivity Level has the least number of true positives (76), indicating that the model might be less effective in correctly identifying instances of High Adaptivity Level compared to the others. Overall our model shows strong predictive ability, especially for the Low Adaptivity Level and Moderate Adaptivity Level."
   ]
  },
  {
   "cell_type": "code",
   "execution_count": 90,
   "id": "f8736d67",
   "metadata": {},
   "outputs": [
    {
     "name": "stdout",
     "output_type": "stream",
     "text": [
      "Confusion Matrix:\n",
      "[[ 75   5  20]\n",
      " [  4 440  36]\n",
      " [  6  38 581]]\n"
     ]
    },
    {
     "data": {
      "image/png": "[encoded data removed]",
      "text/plain": [
       "<Figure size 800x600 with 2 Axes>"
      ]
     },
     "metadata": {},
     "output_type": "display_data"
    }
   ],
   "source": [
    "# X and y are our features and target variable\n",
    "rf_rs_cv = RandomForestClassifier()  # Replace with our optimized model\n",
    "\n",
    "# Get cross-validated predictions\n",
    "predictions = cross_val_predict(rf_rs_cv, X, y, cv=5)\n",
    "\n",
    "# Compute confusion matrix\n",
    "cm = confusion_matrix(y, predictions)\n",
    "\n",
    "# Print the confusion matrix\n",
    "print(\"Confusion Matrix:\")\n",
    "print(cm)\n",
    "\n",
    "# Optionally, plot the confusion matrix\n",
    "plt.figure(figsize=(8, 6))\n",
    "sns.heatmap(cm, annot=True, fmt=\"d\", cmap='Blues')\n",
    "plt.title('Confusion Matrix')\n",
    "plt.ylabel('Actual')\n",
    "plt.xlabel('Predicted')\n",
    "plt.show()"
   ]
  },
  {
   "cell_type": "markdown",
   "id": "f66cce34",
   "metadata": {},
   "source": [
    "Diagonal Values (True Positives): The diagonal values represent the number of points for which the predicted label is equal to the true label. While we are predicting the Adaptivity Level. The encoding was done in the following manners;\n",
    "3rd Moderate Adaptivity Level = 2\n",
    "2nd Low Adaptivity Level = 1 \n",
    "1st High Adaptivity Level = 0\n",
    "\n",
    "1. 75 instances of the High Adaptivity Level were correctly predicted as High Adaptivity Level.\n",
    "2. 440 instances of the Low Adaptivity Level were correctly predicted as Low Adaptivity Level.\n",
    "3. 581 instances of the Moderate Adaptivity Level were correctly predicted as Moderate Adaptivity Level. \n",
    "\n",
    "Off-Diagonal Values (False Positives and False Negatives):\n",
    "1. For the High Adaptivity Level, 5 instances were wrongly predicted as Low Adaptivity Level and 20 as the Moderate Adaptivity Level.\n",
    "2. For the Low Adaptivity Level, 4 instances were wrongly predicted as the High Adaptivity Level and 36 as the Moderate Adaptivity Level.\n",
    "3. For the Moderate Adaptivity Level, 6 instances were wrongly predicted as the High Adaptivity Level and 38 as the Low Adaptivity Level.\n",
    "Analysis:\n",
    "\n",
    "The model is most accurate in predicting the Moderate Adaptivity Level, with 581 true positives and relatively fewer false positives and false negatives.\n",
    "The model performs well in predicting the Low Adaptivity Level too, with 440 true positives. However, it has a higher number of false negatives (36) compared to the High Adaptivity Level.\n",
    "The High Adaptivity Level has the least number of true positives (75), indicating that the model might be less effective in correctly identifying instances of High Adaptivity Level compared to the others.\n",
    "Overall our model shows strong predictive ability, especially for the Low Adaptivity Level and Moderate Adaptivity Level. \n"
   ]
  },
  {
   "cell_type": "code",
   "execution_count": null,
   "id": "74fd74d9",
   "metadata": {},
   "outputs": [],
   "source": []
  }
 ],
 "metadata": {
  "kernelspec": {
   "display_name": "Python 3 (ipykernel)",
   "language": "python",
   "name": "python3"
  },
  "language_info": {
   "codemirror_mode": {
    "name": "ipython",
    "version": 3
   },
   "file_extension": ".py",
   "mimetype": "text/x-python",
   "name": "python",
   "nbconvert_exporter": "python",
   "pygments_lexer": "ipython3",
   "version": "3.11.5"
  }
 },
 "nbformat": 4,
 "nbformat_minor": 5
}
